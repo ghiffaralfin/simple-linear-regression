{
  "metadata": {
    "kernelspec": {
      "language": "python",
      "display_name": "Python 3",
      "name": "python3"
    },
    "language_info": {
      "pygments_lexer": "ipython3",
      "nbconvert_exporter": "python",
      "version": "3.6.4",
      "file_extension": ".py",
      "codemirror_mode": {
        "name": "ipython",
        "version": 3
      },
      "name": "python",
      "mimetype": "text/x-python"
    },
    "colab": {
      "provenance": []
    }
  },
  "nbformat_minor": 0,
  "nbformat": 4,
  "cells": [
    {
      "cell_type": "code",
      "source": [
        "# Step 1 : import library\n",
        "import pandas as pd"
      ],
      "metadata": {
        "id": "fVK5A-wQy7WP",
        "execution": {
          "iopub.status.busy": "2023-03-07T17:35:23.902890Z",
          "iopub.execute_input": "2023-03-07T17:35:23.903291Z",
          "iopub.status.idle": "2023-03-07T17:35:23.940233Z",
          "shell.execute_reply.started": "2023-03-07T17:35:23.903257Z",
          "shell.execute_reply": "2023-03-07T17:35:23.939310Z"
        },
        "trusted": true
      },
      "execution_count": 1,
      "outputs": []
    },
    {
      "cell_type": "code",
      "source": [
        "# Step 2 : import data\n",
        "salary = pd.read_csv('https://github.com/ybifoundation/Dataset/raw/main/Salary%20Data.csv')"
      ],
      "metadata": {
        "id": "MJQPRsu5zDQf",
        "execution": {
          "iopub.status.busy": "2023-03-07T17:35:23.943956Z",
          "iopub.execute_input": "2023-03-07T17:35:23.944458Z",
          "iopub.status.idle": "2023-03-07T17:35:24.823384Z",
          "shell.execute_reply.started": "2023-03-07T17:35:23.944389Z",
          "shell.execute_reply": "2023-03-07T17:35:24.821975Z"
        },
        "trusted": true
      },
      "execution_count": 2,
      "outputs": []
    },
    {
      "cell_type": "code",
      "source": [
        "# Step 3 : define target (y) and features (X)"
      ],
      "metadata": {
        "id": "7OxOGZW3zFNp",
        "execution": {
          "iopub.status.busy": "2023-03-07T17:35:24.824931Z",
          "iopub.execute_input": "2023-03-07T17:35:24.825271Z",
          "iopub.status.idle": "2023-03-07T17:35:24.829606Z",
          "shell.execute_reply.started": "2023-03-07T17:35:24.825238Z",
          "shell.execute_reply": "2023-03-07T17:35:24.828668Z"
        },
        "trusted": true
      },
      "execution_count": null,
      "outputs": []
    },
    {
      "cell_type": "code",
      "source": [
        "salary.columns"
      ],
      "metadata": {
        "id": "hL57V8aZpLvD",
        "outputId": "80a7a3e5-098d-4d3c-a2cd-1abf7ddec262",
        "execution": {
          "iopub.status.busy": "2023-03-07T17:35:24.830837Z",
          "iopub.execute_input": "2023-03-07T17:35:24.831565Z",
          "iopub.status.idle": "2023-03-07T17:35:24.847179Z",
          "shell.execute_reply.started": "2023-03-07T17:35:24.831529Z",
          "shell.execute_reply": "2023-03-07T17:35:24.845730Z"
        },
        "trusted": true,
        "colab": {
          "base_uri": "https://localhost:8080/"
        }
      },
      "execution_count": 3,
      "outputs": [
        {
          "output_type": "execute_result",
          "data": {
            "text/plain": [
              "Index(['Experience Years', 'Salary'], dtype='object')"
            ]
          },
          "metadata": {},
          "execution_count": 3
        }
      ]
    },
    {
      "cell_type": "code",
      "source": [
        "y = salary['Salary']"
      ],
      "metadata": {
        "id": "fPrIG1WQpCAK",
        "execution": {
          "iopub.status.busy": "2023-03-07T17:35:24.851147Z",
          "iopub.execute_input": "2023-03-07T17:35:24.852047Z",
          "iopub.status.idle": "2023-03-07T17:35:24.864062Z",
          "shell.execute_reply.started": "2023-03-07T17:35:24.851995Z",
          "shell.execute_reply": "2023-03-07T17:35:24.862844Z"
        },
        "trusted": true
      },
      "execution_count": 4,
      "outputs": []
    },
    {
      "cell_type": "code",
      "source": [
        "X = salary[['Experience Years']]"
      ],
      "metadata": {
        "id": "oc3snudMpCHi",
        "execution": {
          "iopub.status.busy": "2023-03-07T17:35:24.865719Z",
          "iopub.execute_input": "2023-03-07T17:35:24.866078Z",
          "iopub.status.idle": "2023-03-07T17:35:24.880591Z",
          "shell.execute_reply.started": "2023-03-07T17:35:24.866045Z",
          "shell.execute_reply": "2023-03-07T17:35:24.879245Z"
        },
        "trusted": true
      },
      "execution_count": 5,
      "outputs": []
    },
    {
      "cell_type": "code",
      "source": [
        "# Step 4 : train test split\n",
        "from sklearn.model_selection import train_test_split\n",
        "X_train, X_test, y_train, y_test = train_test_split(X,y, train_size=0.7, random_state=2529)"
      ],
      "metadata": {
        "id": "IiWfw8UwzFRA",
        "execution": {
          "iopub.status.busy": "2023-03-07T17:35:24.882243Z",
          "iopub.execute_input": "2023-03-07T17:35:24.882936Z",
          "iopub.status.idle": "2023-03-07T17:35:26.203834Z",
          "shell.execute_reply.started": "2023-03-07T17:35:24.882901Z",
          "shell.execute_reply": "2023-03-07T17:35:26.202088Z"
        },
        "trusted": true
      },
      "execution_count": 6,
      "outputs": []
    },
    {
      "cell_type": "code",
      "source": [
        "# check shape of train and test sample\n",
        "X_train.shape, X_test.shape, y_train.shape, y_test.shape"
      ],
      "metadata": {
        "outputId": "e024b35a-73b2-4a24-cb54-4ccddd1c94aa",
        "id": "KV7ZjtFYpPV3",
        "execution": {
          "iopub.status.busy": "2023-03-07T17:35:26.207021Z",
          "iopub.execute_input": "2023-03-07T17:35:26.208251Z",
          "iopub.status.idle": "2023-03-07T17:35:26.218493Z",
          "shell.execute_reply.started": "2023-03-07T17:35:26.208184Z",
          "shell.execute_reply": "2023-03-07T17:35:26.217276Z"
        },
        "trusted": true,
        "colab": {
          "base_uri": "https://localhost:8080/"
        }
      },
      "execution_count": 7,
      "outputs": [
        {
          "output_type": "execute_result",
          "data": {
            "text/plain": [
              "((28, 1), (12, 1), (28,), (12,))"
            ]
          },
          "metadata": {},
          "execution_count": 7
        }
      ]
    },
    {
      "cell_type": "code",
      "source": [
        "# Step 5 : select model\n",
        "from sklearn.linear_model import LinearRegression\n",
        "model = LinearRegression()"
      ],
      "metadata": {
        "id": "wFrr01gczFUC",
        "execution": {
          "iopub.status.busy": "2023-03-07T17:35:26.220025Z",
          "iopub.execute_input": "2023-03-07T17:35:26.222254Z",
          "iopub.status.idle": "2023-03-07T17:35:26.337338Z",
          "shell.execute_reply.started": "2023-03-07T17:35:26.222216Z",
          "shell.execute_reply": "2023-03-07T17:35:26.334919Z"
        },
        "trusted": true
      },
      "execution_count": 8,
      "outputs": []
    },
    {
      "cell_type": "code",
      "source": [
        "# Step 6 : train or fit model\n",
        "model.fit(X_train,y_train)"
      ],
      "metadata": {
        "id": "H_u0yYWwzFXU",
        "outputId": "a70c90cf-c1b2-4ba9-9d32-cf38ea4c7f68",
        "execution": {
          "iopub.status.busy": "2023-03-07T17:35:26.339465Z",
          "iopub.execute_input": "2023-03-07T17:35:26.340395Z",
          "iopub.status.idle": "2023-03-07T17:35:26.374524Z",
          "shell.execute_reply.started": "2023-03-07T17:35:26.340346Z",
          "shell.execute_reply": "2023-03-07T17:35:26.373177Z"
        },
        "trusted": true,
        "colab": {
          "base_uri": "https://localhost:8080/",
          "height": 75
        }
      },
      "execution_count": 9,
      "outputs": [
        {
          "output_type": "execute_result",
          "data": {
            "text/plain": [
              "LinearRegression()"
            ],
            "text/html": [
              "<style>#sk-container-id-1 {color: black;background-color: white;}#sk-container-id-1 pre{padding: 0;}#sk-container-id-1 div.sk-toggleable {background-color: white;}#sk-container-id-1 label.sk-toggleable__label {cursor: pointer;display: block;width: 100%;margin-bottom: 0;padding: 0.3em;box-sizing: border-box;text-align: center;}#sk-container-id-1 label.sk-toggleable__label-arrow:before {content: \"▸\";float: left;margin-right: 0.25em;color: #696969;}#sk-container-id-1 label.sk-toggleable__label-arrow:hover:before {color: black;}#sk-container-id-1 div.sk-estimator:hover label.sk-toggleable__label-arrow:before {color: black;}#sk-container-id-1 div.sk-toggleable__content {max-height: 0;max-width: 0;overflow: hidden;text-align: left;background-color: #f0f8ff;}#sk-container-id-1 div.sk-toggleable__content pre {margin: 0.2em;color: black;border-radius: 0.25em;background-color: #f0f8ff;}#sk-container-id-1 input.sk-toggleable__control:checked~div.sk-toggleable__content {max-height: 200px;max-width: 100%;overflow: auto;}#sk-container-id-1 input.sk-toggleable__control:checked~label.sk-toggleable__label-arrow:before {content: \"▾\";}#sk-container-id-1 div.sk-estimator input.sk-toggleable__control:checked~label.sk-toggleable__label {background-color: #d4ebff;}#sk-container-id-1 div.sk-label input.sk-toggleable__control:checked~label.sk-toggleable__label {background-color: #d4ebff;}#sk-container-id-1 input.sk-hidden--visually {border: 0;clip: rect(1px 1px 1px 1px);clip: rect(1px, 1px, 1px, 1px);height: 1px;margin: -1px;overflow: hidden;padding: 0;position: absolute;width: 1px;}#sk-container-id-1 div.sk-estimator {font-family: monospace;background-color: #f0f8ff;border: 1px dotted black;border-radius: 0.25em;box-sizing: border-box;margin-bottom: 0.5em;}#sk-container-id-1 div.sk-estimator:hover {background-color: #d4ebff;}#sk-container-id-1 div.sk-parallel-item::after {content: \"\";width: 100%;border-bottom: 1px solid gray;flex-grow: 1;}#sk-container-id-1 div.sk-label:hover label.sk-toggleable__label {background-color: #d4ebff;}#sk-container-id-1 div.sk-serial::before {content: \"\";position: absolute;border-left: 1px solid gray;box-sizing: border-box;top: 0;bottom: 0;left: 50%;z-index: 0;}#sk-container-id-1 div.sk-serial {display: flex;flex-direction: column;align-items: center;background-color: white;padding-right: 0.2em;padding-left: 0.2em;position: relative;}#sk-container-id-1 div.sk-item {position: relative;z-index: 1;}#sk-container-id-1 div.sk-parallel {display: flex;align-items: stretch;justify-content: center;background-color: white;position: relative;}#sk-container-id-1 div.sk-item::before, #sk-container-id-1 div.sk-parallel-item::before {content: \"\";position: absolute;border-left: 1px solid gray;box-sizing: border-box;top: 0;bottom: 0;left: 50%;z-index: -1;}#sk-container-id-1 div.sk-parallel-item {display: flex;flex-direction: column;z-index: 1;position: relative;background-color: white;}#sk-container-id-1 div.sk-parallel-item:first-child::after {align-self: flex-end;width: 50%;}#sk-container-id-1 div.sk-parallel-item:last-child::after {align-self: flex-start;width: 50%;}#sk-container-id-1 div.sk-parallel-item:only-child::after {width: 0;}#sk-container-id-1 div.sk-dashed-wrapped {border: 1px dashed gray;margin: 0 0.4em 0.5em 0.4em;box-sizing: border-box;padding-bottom: 0.4em;background-color: white;}#sk-container-id-1 div.sk-label label {font-family: monospace;font-weight: bold;display: inline-block;line-height: 1.2em;}#sk-container-id-1 div.sk-label-container {text-align: center;}#sk-container-id-1 div.sk-container {/* jupyter's `normalize.less` sets `[hidden] { display: none; }` but bootstrap.min.css set `[hidden] { display: none !important; }` so we also need the `!important` here to be able to override the default hidden behavior on the sphinx rendered scikit-learn.org. See: https://github.com/scikit-learn/scikit-learn/issues/21755 */display: inline-block !important;position: relative;}#sk-container-id-1 div.sk-text-repr-fallback {display: none;}</style><div id=\"sk-container-id-1\" class=\"sk-top-container\"><div class=\"sk-text-repr-fallback\"><pre>LinearRegression()</pre><b>In a Jupyter environment, please rerun this cell to show the HTML representation or trust the notebook. <br />On GitHub, the HTML representation is unable to render, please try loading this page with nbviewer.org.</b></div><div class=\"sk-container\" hidden><div class=\"sk-item\"><div class=\"sk-estimator sk-toggleable\"><input class=\"sk-toggleable__control sk-hidden--visually\" id=\"sk-estimator-id-1\" type=\"checkbox\" checked><label for=\"sk-estimator-id-1\" class=\"sk-toggleable__label sk-toggleable__label-arrow\">LinearRegression</label><div class=\"sk-toggleable__content\"><pre>LinearRegression()</pre></div></div></div></div></div>"
            ]
          },
          "metadata": {},
          "execution_count": 9
        }
      ]
    },
    {
      "cell_type": "code",
      "source": [
        "model.intercept_"
      ],
      "metadata": {
        "id": "8cGEnlCwHgRn",
        "outputId": "d1ed6a5e-6efe-4bf3-8c32-7fc130fde4af",
        "execution": {
          "iopub.status.busy": "2023-03-07T17:35:26.376670Z",
          "iopub.execute_input": "2023-03-07T17:35:26.377479Z",
          "iopub.status.idle": "2023-03-07T17:35:26.385850Z",
          "shell.execute_reply.started": "2023-03-07T17:35:26.377409Z",
          "shell.execute_reply": "2023-03-07T17:35:26.384449Z"
        },
        "trusted": true,
        "colab": {
          "base_uri": "https://localhost:8080/"
        }
      },
      "execution_count": 10,
      "outputs": [
        {
          "output_type": "execute_result",
          "data": {
            "text/plain": [
              "26596.961311068262"
            ]
          },
          "metadata": {},
          "execution_count": 10
        }
      ]
    },
    {
      "cell_type": "code",
      "source": [
        "model.coef_"
      ],
      "metadata": {
        "id": "gDMDGuNbHgXn",
        "outputId": "5e80a3a4-ed58-4abd-f5cb-b136487df4e0",
        "execution": {
          "iopub.status.busy": "2023-03-07T17:35:26.389398Z",
          "iopub.execute_input": "2023-03-07T17:35:26.389962Z",
          "iopub.status.idle": "2023-03-07T17:35:26.399941Z",
          "shell.execute_reply.started": "2023-03-07T17:35:26.389926Z",
          "shell.execute_reply": "2023-03-07T17:35:26.398680Z"
        },
        "trusted": true,
        "colab": {
          "base_uri": "https://localhost:8080/"
        }
      },
      "execution_count": 11,
      "outputs": [
        {
          "output_type": "execute_result",
          "data": {
            "text/plain": [
              "array([9405.61663234])"
            ]
          },
          "metadata": {},
          "execution_count": 11
        }
      ]
    },
    {
      "cell_type": "code",
      "source": [
        "# Step 7 : predict model\n",
        "y_pred = model.predict(X_test)"
      ],
      "metadata": {
        "id": "vjg625ivzOFF",
        "execution": {
          "iopub.status.busy": "2023-03-07T17:35:26.402076Z",
          "iopub.execute_input": "2023-03-07T17:35:26.402741Z",
          "iopub.status.idle": "2023-03-07T17:35:26.422731Z",
          "shell.execute_reply.started": "2023-03-07T17:35:26.402680Z",
          "shell.execute_reply": "2023-03-07T17:35:26.421345Z"
        },
        "trusted": true
      },
      "execution_count": 12,
      "outputs": []
    },
    {
      "cell_type": "code",
      "source": [
        "y_pred"
      ],
      "metadata": {
        "id": "R026QxgY0RL-",
        "outputId": "6661022a-4792-4673-c684-ccef87dbbe19",
        "execution": {
          "iopub.status.busy": "2023-03-07T17:35:26.427275Z",
          "iopub.execute_input": "2023-03-07T17:35:26.427906Z",
          "iopub.status.idle": "2023-03-07T17:35:26.443976Z",
          "shell.execute_reply.started": "2023-03-07T17:35:26.427787Z",
          "shell.execute_reply": "2023-03-07T17:35:26.442634Z"
        },
        "trusted": true,
        "colab": {
          "base_uri": "https://localhost:8080/"
        }
      },
      "execution_count": 13,
      "outputs": [
        {
          "output_type": "execute_result",
          "data": {
            "text/plain": [
              "array([ 90555.15441095,  59516.61952424, 106544.70268592,  64219.42784041,\n",
              "        68922.23615658, 123474.81262412,  84911.78443155,  63278.86617718,\n",
              "        65159.98950364,  61397.74285071,  37883.70126987,  50111.00289191])"
            ]
          },
          "metadata": {},
          "execution_count": 13
        }
      ]
    },
    {
      "cell_type": "code",
      "source": [
        "# Step 8 : model accuracy\n",
        "from sklearn.metrics import mean_absolute_error, mean_absolute_percentage_error, mean_squared_error"
      ],
      "metadata": {
        "id": "hVLD3DUDzOIO",
        "execution": {
          "iopub.status.busy": "2023-03-07T17:35:26.445916Z",
          "iopub.execute_input": "2023-03-07T17:35:26.446361Z",
          "iopub.status.idle": "2023-03-07T17:35:26.454728Z",
          "shell.execute_reply.started": "2023-03-07T17:35:26.446315Z",
          "shell.execute_reply": "2023-03-07T17:35:26.453478Z"
        },
        "trusted": true
      },
      "execution_count": 14,
      "outputs": []
    },
    {
      "cell_type": "code",
      "source": [
        "mean_absolute_error(y_test,y_pred)"
      ],
      "metadata": {
        "id": "baYrB17TtGJ1",
        "outputId": "13a64a40-33a2-4124-f5d9-f49fa5cd0983",
        "execution": {
          "iopub.status.busy": "2023-03-07T17:35:26.456906Z",
          "iopub.execute_input": "2023-03-07T17:35:26.457938Z",
          "iopub.status.idle": "2023-03-07T17:35:26.478186Z",
          "shell.execute_reply.started": "2023-03-07T17:35:26.457886Z",
          "shell.execute_reply": "2023-03-07T17:35:26.476564Z"
        },
        "trusted": true,
        "colab": {
          "base_uri": "https://localhost:8080/"
        }
      },
      "execution_count": 15,
      "outputs": [
        {
          "output_type": "execute_result",
          "data": {
            "text/plain": [
              "4005.9263101681768"
            ]
          },
          "metadata": {},
          "execution_count": 15
        }
      ]
    },
    {
      "cell_type": "code",
      "source": [
        "mean_absolute_percentage_error(y_test,y_pred)"
      ],
      "metadata": {
        "id": "At9hgrMxtGSU",
        "outputId": "78ead7ac-4406-4dd0-ee45-a64729b62c5e",
        "execution": {
          "iopub.status.busy": "2023-03-07T17:35:26.479802Z",
          "iopub.execute_input": "2023-03-07T17:35:26.481339Z",
          "iopub.status.idle": "2023-03-07T17:35:26.499778Z",
          "shell.execute_reply.started": "2023-03-07T17:35:26.481286Z",
          "shell.execute_reply": "2023-03-07T17:35:26.498468Z"
        },
        "trusted": true,
        "colab": {
          "base_uri": "https://localhost:8080/"
        }
      },
      "execution_count": 16,
      "outputs": [
        {
          "output_type": "execute_result",
          "data": {
            "text/plain": [
              "0.06384602996141632"
            ]
          },
          "metadata": {},
          "execution_count": 16
        }
      ]
    },
    {
      "cell_type": "code",
      "source": [
        "mean_squared_error(y_test,y_pred)"
      ],
      "metadata": {
        "id": "XfKmuUl_sd7R",
        "outputId": "e7b08fb0-0682-4fa2-f20a-1daee98fff17",
        "execution": {
          "iopub.status.busy": "2023-03-07T17:35:26.501292Z",
          "iopub.execute_input": "2023-03-07T17:35:26.501690Z",
          "iopub.status.idle": "2023-03-07T17:35:26.521473Z",
          "shell.execute_reply.started": "2023-03-07T17:35:26.501653Z",
          "shell.execute_reply": "2023-03-07T17:35:26.519520Z"
        },
        "trusted": true,
        "colab": {
          "base_uri": "https://localhost:8080/"
        }
      },
      "execution_count": 17,
      "outputs": [
        {
          "output_type": "execute_result",
          "data": {
            "text/plain": [
              "24141421.671440993"
            ]
          },
          "metadata": {},
          "execution_count": 17
        }
      ]
    },
    {
      "cell_type": "code",
      "source": [
        "# step 9 visualize code\n",
        "import matplotlib.pyplot as plt\n",
        "\n",
        "# Plotting actual vs predicted salaries\n",
        "plt.scatter(X_test, y_test, color='blue', label='Actual')\n",
        "plt.plot(X_test, y_pred, color='red', label='Predicted')\n",
        "plt.title('Actual vs Predicted Salaries')\n",
        "plt.xlabel('Experience Years')\n",
        "plt.ylabel('Salary')\n",
        "plt.legend()\n",
        "plt.show()"
      ],
      "metadata": {
        "colab": {
          "base_uri": "https://localhost:8080/",
          "height": 472
        },
        "id": "pOWGn-s6niTf",
        "outputId": "c6d75b5d-4e00-465c-93ac-e07613536b98"
      },
      "execution_count": 19,
      "outputs": [
        {
          "output_type": "display_data",
          "data": {
            "text/plain": [
              "<Figure size 640x480 with 1 Axes>"
            ],
            "image/png": "[encoded data removed]"
          },
          "metadata": {}
        }
      ]
    }
  ]
}